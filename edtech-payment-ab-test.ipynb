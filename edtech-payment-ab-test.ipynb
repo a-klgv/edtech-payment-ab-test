{
 "cells": [
  {
   "cell_type": "markdown",
   "id": "f2296374-61da-4437-8be1-f2927e0177e5",
   "metadata": {},
   "source": [
    "# EdTech Payment A/B Testing\n",
    "\n",
    "In this mini-project, we analyze the impact of a new payment mechanism introduced on an online educational platform that offers courses and learning services to students.\n",
    "\n",
    "We have the results of an A/B test conducted on an online educational platform. Our aim is to evaluate the effectiveness of a new payment mechanism compared to the existing baseline, investigate statistical significance of observed differences, and provide data-driven recommendations for business implementation.\n",
    "\n",
    "### Data description:\n",
    "The dataset contains the following fields:\n",
    "\n",
    "users.csv - dataset - user devided into control(A) and test(B) groups\n",
    "\n",
    "logs.csv - dataset - platform login activity during experiment period\n",
    "\n",
    "payments.csv - dataset - payment transactions of users"
   ]
  },
  {
   "cell_type": "markdown",
   "id": "48bc2cec-a0ac-4387-a65d-cf26a1d067ad",
   "metadata": {},
   "source": [
    "# Importing Libraries and Dataset"
   ]
  },
  {
   "cell_type": "code",
   "execution_count": 968,
   "id": "6990519d-61a9-4445-a5b0-388cd5832dd3",
   "metadata": {},
   "outputs": [],
   "source": [
    "import pandas as pd\n",
    "import numpy as np\n",
    "from scipy.stats import chi2_contingency\n",
    "from scipy.stats import norm\n",
    "from tqdm.auto import tqdm\n",
    "\n",
    "import seaborn as sns\n",
    "import matplotlib.pyplot as plt\n",
    "\n",
    "sns.set(rc={'figure.figsize':(6,4)}, style=\"white\")\n",
    "sns.set_style(\"white\")"
   ]
  },
  {
   "cell_type": "code",
   "execution_count": 704,
   "id": "028ded07-bfa0-4f92-a91f-7c78292f1f6a",
   "metadata": {},
   "outputs": [],
   "source": [
    "# import datasets\n",
    "users = pd.read_csv('users.csv')  # users by control / test groups\n",
    "logs = pd.read_csv('logs.csv', sep=',')  # login activity\n",
    "payments = pd.read_csv('payments.csv', sep=';')  # payments data"
   ]
  },
  {
   "cell_type": "markdown",
   "id": "31e4ae84-2127-4046-a366-40d622b21173",
   "metadata": {},
   "source": [
    "# Exploratory Data Analysis (EDA)"
   ]
  },
  {
   "cell_type": "markdown",
   "id": "cd6c8c69-bd18-417f-900a-a38a2fc79911",
   "metadata": {},
   "source": [
    "**1. users =>** users devided into control(A) & test (B) groups."
   ]
  },
  {
   "cell_type": "code",
   "execution_count": 708,
   "id": "6bdcae93-57e0-442b-957c-36b99aa1f089",
   "metadata": {},
   "outputs": [
    {
     "data": {
      "text/html": [
       "<div>\n",
       "<style scoped>\n",
       "    .dataframe tbody tr th:only-of-type {\n",
       "        vertical-align: middle;\n",
       "    }\n",
       "\n",
       "    .dataframe tbody tr th {\n",
       "        vertical-align: top;\n",
       "    }\n",
       "\n",
       "    .dataframe thead th {\n",
       "        text-align: right;\n",
       "    }\n",
       "</style>\n",
       "<table border=\"1\" class=\"dataframe\">\n",
       "  <thead>\n",
       "    <tr style=\"text-align: right;\">\n",
       "      <th></th>\n",
       "      <th>id</th>\n",
       "      <th>group</th>\n",
       "    </tr>\n",
       "  </thead>\n",
       "  <tbody>\n",
       "    <tr>\n",
       "      <th>0</th>\n",
       "      <td>1489</td>\n",
       "      <td>A</td>\n",
       "    </tr>\n",
       "    <tr>\n",
       "      <th>1</th>\n",
       "      <td>1627</td>\n",
       "      <td>B</td>\n",
       "    </tr>\n",
       "    <tr>\n",
       "      <th>2</th>\n",
       "      <td>1768</td>\n",
       "      <td>B</td>\n",
       "    </tr>\n",
       "    <tr>\n",
       "      <th>3</th>\n",
       "      <td>1783</td>\n",
       "      <td>B</td>\n",
       "    </tr>\n",
       "    <tr>\n",
       "      <th>4</th>\n",
       "      <td>1794</td>\n",
       "      <td>A</td>\n",
       "    </tr>\n",
       "  </tbody>\n",
       "</table>\n",
       "</div>"
      ],
      "text/plain": [
       "     id group\n",
       "0  1489     A\n",
       "1  1627     B\n",
       "2  1768     B\n",
       "3  1783     B\n",
       "4  1794     A"
      ]
     },
     "execution_count": 708,
     "metadata": {},
     "output_type": "execute_result"
    }
   ],
   "source": [
    "users.head()"
   ]
  },
  {
   "cell_type": "code",
   "execution_count": 710,
   "id": "a35f1c33-7695-4102-a4fb-53ea44528a3c",
   "metadata": {},
   "outputs": [
    {
     "data": {
      "text/plain": [
       "74576"
      ]
     },
     "execution_count": 710,
     "metadata": {},
     "output_type": "execute_result"
    }
   ],
   "source": [
    "users.id.nunique()"
   ]
  },
  {
   "cell_type": "code",
   "execution_count": 712,
   "id": "9360ac91-7eb8-41f7-8a93-56da49afa58d",
   "metadata": {},
   "outputs": [
    {
     "data": {
      "text/plain": [
       "id       0\n",
       "group    0\n",
       "dtype: int64"
      ]
     },
     "execution_count": 712,
     "metadata": {},
     "output_type": "execute_result"
    }
   ],
   "source": [
    "users.isna().sum()"
   ]
  },
  {
   "cell_type": "markdown",
   "id": "fc7bd4fb-c96f-47c4-8358-a0c2e40f919e",
   "metadata": {},
   "source": [
    "**2. logs =>** users who logged into the platform during the experiment days"
   ]
  },
  {
   "cell_type": "code",
   "execution_count": 715,
   "id": "78e091f3-3f2b-4f8a-bed6-99d3292e9799",
   "metadata": {},
   "outputs": [
    {
     "data": {
      "text/html": [
       "<div>\n",
       "<style scoped>\n",
       "    .dataframe tbody tr th:only-of-type {\n",
       "        vertical-align: middle;\n",
       "    }\n",
       "\n",
       "    .dataframe tbody tr th {\n",
       "        vertical-align: top;\n",
       "    }\n",
       "\n",
       "    .dataframe thead th {\n",
       "        text-align: right;\n",
       "    }\n",
       "</style>\n",
       "<table border=\"1\" class=\"dataframe\">\n",
       "  <thead>\n",
       "    <tr style=\"text-align: right;\">\n",
       "      <th></th>\n",
       "      <th>student_id</th>\n",
       "    </tr>\n",
       "  </thead>\n",
       "  <tbody>\n",
       "    <tr>\n",
       "      <th>0</th>\n",
       "      <td>581585</td>\n",
       "    </tr>\n",
       "    <tr>\n",
       "      <th>1</th>\n",
       "      <td>5723133</td>\n",
       "    </tr>\n",
       "    <tr>\n",
       "      <th>2</th>\n",
       "      <td>3276743</td>\n",
       "    </tr>\n",
       "    <tr>\n",
       "      <th>3</th>\n",
       "      <td>4238589</td>\n",
       "    </tr>\n",
       "    <tr>\n",
       "      <th>4</th>\n",
       "      <td>4475369</td>\n",
       "    </tr>\n",
       "  </tbody>\n",
       "</table>\n",
       "</div>"
      ],
      "text/plain": [
       "   student_id\n",
       "0      581585\n",
       "1     5723133\n",
       "2     3276743\n",
       "3     4238589\n",
       "4     4475369"
      ]
     },
     "execution_count": 715,
     "metadata": {},
     "output_type": "execute_result"
    }
   ],
   "source": [
    "logs.head()"
   ]
  },
  {
   "cell_type": "code",
   "execution_count": 717,
   "id": "8441ebfc-88e6-47c9-9875-c16324a182e2",
   "metadata": {},
   "outputs": [
    {
     "data": {
      "text/plain": [
       "8341"
      ]
     },
     "execution_count": 717,
     "metadata": {},
     "output_type": "execute_result"
    }
   ],
   "source": [
    "logs.student_id.nunique()"
   ]
  },
  {
   "cell_type": "code",
   "execution_count": 719,
   "id": "921a7e1b-30aa-4320-a532-53d407b3951d",
   "metadata": {},
   "outputs": [
    {
     "data": {
      "text/plain": [
       "student_id    0\n",
       "dtype: int64"
      ]
     },
     "execution_count": 719,
     "metadata": {},
     "output_type": "execute_result"
    }
   ],
   "source": [
    "logs.isna().sum()"
   ]
  },
  {
   "cell_type": "markdown",
   "id": "179831fc-cf7f-4237-8382-f626c066cac0",
   "metadata": {},
   "source": [
    "**3. payments =>** payments made by users during the experiment days"
   ]
  },
  {
   "cell_type": "code",
   "execution_count": 722,
   "id": "b5f5f558-ec45-4f2b-a3bb-196c734a7c4c",
   "metadata": {},
   "outputs": [
    {
     "data": {
      "text/html": [
       "<div>\n",
       "<style scoped>\n",
       "    .dataframe tbody tr th:only-of-type {\n",
       "        vertical-align: middle;\n",
       "    }\n",
       "\n",
       "    .dataframe tbody tr th {\n",
       "        vertical-align: top;\n",
       "    }\n",
       "\n",
       "    .dataframe thead th {\n",
       "        text-align: right;\n",
       "    }\n",
       "</style>\n",
       "<table border=\"1\" class=\"dataframe\">\n",
       "  <thead>\n",
       "    <tr style=\"text-align: right;\">\n",
       "      <th></th>\n",
       "      <th>student_id</th>\n",
       "      <th>rev</th>\n",
       "    </tr>\n",
       "  </thead>\n",
       "  <tbody>\n",
       "    <tr>\n",
       "      <th>0</th>\n",
       "      <td>1627</td>\n",
       "      <td>990.0</td>\n",
       "    </tr>\n",
       "    <tr>\n",
       "      <th>1</th>\n",
       "      <td>3185</td>\n",
       "      <td>690.0</td>\n",
       "    </tr>\n",
       "    <tr>\n",
       "      <th>2</th>\n",
       "      <td>25973</td>\n",
       "      <td>690.0</td>\n",
       "    </tr>\n",
       "    <tr>\n",
       "      <th>3</th>\n",
       "      <td>26280</td>\n",
       "      <td>690.0</td>\n",
       "    </tr>\n",
       "    <tr>\n",
       "      <th>4</th>\n",
       "      <td>100300</td>\n",
       "      <td>990.0</td>\n",
       "    </tr>\n",
       "  </tbody>\n",
       "</table>\n",
       "</div>"
      ],
      "text/plain": [
       "   student_id    rev\n",
       "0        1627  990.0\n",
       "1        3185  690.0\n",
       "2       25973  690.0\n",
       "3       26280  690.0\n",
       "4      100300  990.0"
      ]
     },
     "execution_count": 722,
     "metadata": {},
     "output_type": "execute_result"
    }
   ],
   "source": [
    "payments.head()"
   ]
  },
  {
   "cell_type": "code",
   "execution_count": 724,
   "id": "deba2daf-7f38-4167-8ffe-27a403fd9529",
   "metadata": {},
   "outputs": [
    {
     "data": {
      "text/plain": [
       "541"
      ]
     },
     "execution_count": 724,
     "metadata": {},
     "output_type": "execute_result"
    }
   ],
   "source": [
    "payments.student_id.nunique()"
   ]
  },
  {
   "cell_type": "code",
   "execution_count": 726,
   "id": "69a810b7-783c-47a2-8274-3fa3f941c8d3",
   "metadata": {},
   "outputs": [
    {
     "data": {
      "text/plain": [
       "student_id    0\n",
       "rev           0\n",
       "dtype: int64"
      ]
     },
     "execution_count": 726,
     "metadata": {},
     "output_type": "execute_result"
    }
   ],
   "source": [
    "payments.isna().sum()"
   ]
  },
  {
   "cell_type": "markdown",
   "id": "d20f924e-b282-4ede-a690-40adcf8bc8ac",
   "metadata": {},
   "source": [
    "### EDA Summary:\n",
    "\n",
    "There are 74,576 unique users in the df users.\n",
    "\n",
    "In addition, we have information about 8,341 unique users who logged into the platform during the experiment days, and 541 unique users who made payments during the experiment days.\n",
    "\n",
    "There are no duplicates and missing values in all these datasets.\n",
    "\n",
    "To proceed with the analysis, we will merge all datasets into a single one and verify the correctness and completeness of the data."
   ]
  },
  {
   "cell_type": "markdown",
   "id": "58cdde84-39ee-4842-ae2e-d794a77f522a",
   "metadata": {},
   "source": [
    "# Data Preprocessing"
   ]
  },
  {
   "cell_type": "markdown",
   "id": "6c3e1906-1c8c-49b3-bc01-c8d25225ded1",
   "metadata": {},
   "source": [
    "**1.** Update df users"
   ]
  },
  {
   "cell_type": "code",
   "execution_count": 731,
   "id": "9d5ae214-f5eb-44e8-92ff-b1ca4d895443",
   "metadata": {},
   "outputs": [],
   "source": [
    "# rename column 'id' to 'student_id'\n",
    "users = users.rename(columns={'id': 'student_id'})"
   ]
  },
  {
   "cell_type": "code",
   "execution_count": 733,
   "id": "d857c5ed-8784-44a7-848b-c1eed3f0ccf9",
   "metadata": {},
   "outputs": [],
   "source": [
    "# replace A/B with control/test\n",
    "users['group'] = users['group'].replace({'A': 'control', 'B': 'test'})"
   ]
  },
  {
   "cell_type": "markdown",
   "id": "5a2c7785-4400-4f2e-aa6d-b18c1a855577",
   "metadata": {},
   "source": [
    "**2.** Update df logs"
   ]
  },
  {
   "cell_type": "code",
   "execution_count": 736,
   "id": "31652fa9-5627-4b6d-bb20-26ce4786bd85",
   "metadata": {},
   "outputs": [],
   "source": [
    "# for users in the df logs adding 'status' = 'active'\n",
    "logs['status'] = 'active'"
   ]
  },
  {
   "cell_type": "markdown",
   "id": "39fbdb42-6446-4dc5-bd81-7219c68ca0ff",
   "metadata": {},
   "source": [
    "**3.** Update df payments"
   ]
  },
  {
   "cell_type": "code",
   "execution_count": 739,
   "id": "0966f55f-bfd0-4385-b410-252d9325e905",
   "metadata": {},
   "outputs": [],
   "source": [
    "# for users in the df logs adding 'payment' = 'yes' & rename columns\n",
    "payments['payment'] = 'yes'\n",
    "payments = payments.rename(columns={'rev': 'revenue'})"
   ]
  },
  {
   "cell_type": "markdown",
   "id": "cff5b1c6-eed3-4a67-aeab-2a7aa97f4902",
   "metadata": {},
   "source": [
    "**4.** Merging all datasets & filling missing values"
   ]
  },
  {
   "cell_type": "code",
   "execution_count": 742,
   "id": "30ec2f71-5c74-446a-bf00-66b04cdbbc1f",
   "metadata": {},
   "outputs": [],
   "source": [
    "full_df = users.merge(logs, on='student_id', how='left').merge(payments, on='student_id', how='left')"
   ]
  },
  {
   "cell_type": "code",
   "execution_count": 744,
   "id": "ccff0d32-e868-4760-ae7b-a80844511c25",
   "metadata": {},
   "outputs": [],
   "source": [
    "# filling missing values & rename columns\n",
    "full_df = full_df.fillna({'status': 'inactive', 'revenue': 0, 'payment': 'no'})"
   ]
  },
  {
   "cell_type": "code",
   "execution_count": 746,
   "id": "ee04b1df-0372-4d84-ba76-31cda439d9c6",
   "metadata": {},
   "outputs": [
    {
     "data": {
      "text/plain": [
       "True"
      ]
     },
     "execution_count": 746,
     "metadata": {},
     "output_type": "execute_result"
    }
   ],
   "source": [
    "# comparing the number of unique users with status 'active' in the new df with the number of unique users in the logs df\n",
    "full_df.query(\"status == 'active'\").student_id.nunique() == logs.student_id.nunique()"
   ]
  },
  {
   "cell_type": "code",
   "execution_count": 748,
   "id": "8900e5fd-3e90-4d29-83de-0868939be480",
   "metadata": {},
   "outputs": [
    {
     "data": {
      "text/plain": [
       "True"
      ]
     },
     "execution_count": 748,
     "metadata": {},
     "output_type": "execute_result"
    }
   ],
   "source": [
    "# comparing the number of unique users with status 'active' in the new df with the number of unique users in the logs df\n",
    "full_df.query(\"payment == 'yes'\").student_id.nunique() == payments.student_id.nunique()"
   ]
  },
  {
   "cell_type": "code",
   "execution_count": 750,
   "id": "f065b5c6-8def-4447-b84f-a29c1cd93b2a",
   "metadata": {},
   "outputs": [
    {
     "data": {
      "text/html": [
       "<div>\n",
       "<style scoped>\n",
       "    .dataframe tbody tr th:only-of-type {\n",
       "        vertical-align: middle;\n",
       "    }\n",
       "\n",
       "    .dataframe tbody tr th {\n",
       "        vertical-align: top;\n",
       "    }\n",
       "\n",
       "    .dataframe thead th {\n",
       "        text-align: right;\n",
       "    }\n",
       "</style>\n",
       "<table border=\"1\" class=\"dataframe\">\n",
       "  <thead>\n",
       "    <tr style=\"text-align: right;\">\n",
       "      <th></th>\n",
       "      <th>student_id</th>\n",
       "      <th>group</th>\n",
       "      <th>status</th>\n",
       "      <th>revenue</th>\n",
       "      <th>payment</th>\n",
       "    </tr>\n",
       "  </thead>\n",
       "  <tbody>\n",
       "    <tr>\n",
       "      <th>0</th>\n",
       "      <td>1489</td>\n",
       "      <td>control</td>\n",
       "      <td>inactive</td>\n",
       "      <td>0.0</td>\n",
       "      <td>no</td>\n",
       "    </tr>\n",
       "    <tr>\n",
       "      <th>1</th>\n",
       "      <td>1627</td>\n",
       "      <td>test</td>\n",
       "      <td>active</td>\n",
       "      <td>990.0</td>\n",
       "      <td>yes</td>\n",
       "    </tr>\n",
       "    <tr>\n",
       "      <th>2</th>\n",
       "      <td>1768</td>\n",
       "      <td>test</td>\n",
       "      <td>inactive</td>\n",
       "      <td>0.0</td>\n",
       "      <td>no</td>\n",
       "    </tr>\n",
       "    <tr>\n",
       "      <th>3</th>\n",
       "      <td>1783</td>\n",
       "      <td>test</td>\n",
       "      <td>inactive</td>\n",
       "      <td>0.0</td>\n",
       "      <td>no</td>\n",
       "    </tr>\n",
       "    <tr>\n",
       "      <th>4</th>\n",
       "      <td>1794</td>\n",
       "      <td>control</td>\n",
       "      <td>inactive</td>\n",
       "      <td>0.0</td>\n",
       "      <td>no</td>\n",
       "    </tr>\n",
       "  </tbody>\n",
       "</table>\n",
       "</div>"
      ],
      "text/plain": [
       "   student_id    group    status  revenue payment\n",
       "0        1489  control  inactive      0.0      no\n",
       "1        1627     test    active    990.0     yes\n",
       "2        1768     test  inactive      0.0      no\n",
       "3        1783     test  inactive      0.0      no\n",
       "4        1794  control  inactive      0.0      no"
      ]
     },
     "execution_count": 750,
     "metadata": {},
     "output_type": "execute_result"
    }
   ],
   "source": [
    "full_df.head()"
   ]
  },
  {
   "cell_type": "markdown",
   "id": "17d34b04-08c7-4228-b2f1-e7cf0d9d7229",
   "metadata": {},
   "source": [
    "# Analysis"
   ]
  },
  {
   "cell_type": "markdown",
   "id": "6d7579f9-2edb-446e-9f32-ef309911fe0d",
   "metadata": {},
   "source": [
    "## Q1.\n",
    "Analyze the combined dataset to identify patterns in user activity, payments, and overall behavior during the experiment."
   ]
  },
  {
   "cell_type": "code",
   "execution_count": 754,
   "id": "329135f6-9143-4b99-a3c8-642ffc1c5d44",
   "metadata": {},
   "outputs": [
    {
     "data": {
      "text/html": [
       "<div>\n",
       "<style scoped>\n",
       "    .dataframe tbody tr th:only-of-type {\n",
       "        vertical-align: middle;\n",
       "    }\n",
       "\n",
       "    .dataframe tbody tr th {\n",
       "        vertical-align: top;\n",
       "    }\n",
       "\n",
       "    .dataframe thead th {\n",
       "        text-align: right;\n",
       "    }\n",
       "</style>\n",
       "<table border=\"1\" class=\"dataframe\">\n",
       "  <thead>\n",
       "    <tr style=\"text-align: right;\">\n",
       "      <th>payment</th>\n",
       "      <th>no</th>\n",
       "      <th>yes</th>\n",
       "    </tr>\n",
       "    <tr>\n",
       "      <th>status</th>\n",
       "      <th></th>\n",
       "      <th></th>\n",
       "    </tr>\n",
       "  </thead>\n",
       "  <tbody>\n",
       "    <tr>\n",
       "      <th>active</th>\n",
       "      <td>7949</td>\n",
       "      <td>392</td>\n",
       "    </tr>\n",
       "    <tr>\n",
       "      <th>inactive</th>\n",
       "      <td>66086</td>\n",
       "      <td>149</td>\n",
       "    </tr>\n",
       "  </tbody>\n",
       "</table>\n",
       "</div>"
      ],
      "text/plain": [
       "payment      no  yes\n",
       "status              \n",
       "active     7949  392\n",
       "inactive  66086  149"
      ]
     },
     "execution_count": 754,
     "metadata": {},
     "output_type": "execute_result"
    }
   ],
   "source": [
    "# create pivot for number of students by status and payments\n",
    "full_df_pivot = full_df.pivot_table(index='status', columns='payment', values='student_id', aggfunc='count')\n",
    "full_df_pivot"
   ]
  },
  {
   "cell_type": "code",
   "execution_count": 758,
   "id": "e487620e-a886-48b6-88b9-21143cfb6731",
   "metadata": {},
   "outputs": [
    {
     "data": {
      "text/plain": [
       "18.4"
      ]
     },
     "execution_count": 758,
     "metadata": {},
     "output_type": "execute_result"
    }
   ],
   "source": [
    "# percent of inactive users that made payments\n",
    "round(full_df.query(\"status == 'inactive' & payment == 'yes'\").revenue.sum() / df.revenue.sum() * 100, 1)"
   ]
  },
  {
   "cell_type": "code",
   "execution_count": 760,
   "id": "83fea9d9-0873-4a2d-aafa-1803a7d6a987",
   "metadata": {},
   "outputs": [],
   "source": [
    "# analyse full df by groups\n",
    "full_df_by_groups = full_df.groupby('group', as_index=False).agg({'student_id': 'nunique'})\n",
    "full_df_by_groups['pct'] = round(full_df_by_groups.student_id / full_df_by_groups.student_id.sum() * 100, 1)"
   ]
  },
  {
   "cell_type": "code",
   "execution_count": 762,
   "id": "44789f20-c7d1-4c20-ae33-2c06a06a1b2c",
   "metadata": {},
   "outputs": [
    {
     "data": {
      "text/html": [
       "<div>\n",
       "<style scoped>\n",
       "    .dataframe tbody tr th:only-of-type {\n",
       "        vertical-align: middle;\n",
       "    }\n",
       "\n",
       "    .dataframe tbody tr th {\n",
       "        vertical-align: top;\n",
       "    }\n",
       "\n",
       "    .dataframe thead th {\n",
       "        text-align: right;\n",
       "    }\n",
       "</style>\n",
       "<table border=\"1\" class=\"dataframe\">\n",
       "  <thead>\n",
       "    <tr style=\"text-align: right;\">\n",
       "      <th></th>\n",
       "      <th>group</th>\n",
       "      <th>student_id</th>\n",
       "      <th>pct</th>\n",
       "    </tr>\n",
       "  </thead>\n",
       "  <tbody>\n",
       "    <tr>\n",
       "      <th>0</th>\n",
       "      <td>control</td>\n",
       "      <td>37285</td>\n",
       "      <td>50.0</td>\n",
       "    </tr>\n",
       "    <tr>\n",
       "      <th>1</th>\n",
       "      <td>test</td>\n",
       "      <td>37291</td>\n",
       "      <td>50.0</td>\n",
       "    </tr>\n",
       "  </tbody>\n",
       "</table>\n",
       "</div>"
      ],
      "text/plain": [
       "     group  student_id   pct\n",
       "0  control       37285  50.0\n",
       "1     test       37291  50.0"
      ]
     },
     "execution_count": 762,
     "metadata": {},
     "output_type": "execute_result"
    }
   ],
   "source": [
    "full_df_by_groups.head()"
   ]
  },
  {
   "cell_type": "markdown",
   "id": "c97da9d1-0ac0-4ed6-baad-4042d4523eb9",
   "metadata": {},
   "source": [
    "## Q1 Summary:\n",
    "The total number of users is **74,576**, including:\n",
    "\n",
    "**66,086 =>** inactive users who did not log into the platform and did not make any payments ***=> for testing purposes, these users will be excluded from the final sample***.\n",
    "\n",
    "**149 =>** inactive users who did not log into the platform, but already made payments. There may be various reasons for this. First, these could be payments for previous periods or installment payments. Second, users might have had auto-payments or subscription payments enabled. Finally, users could have made payments through another resource without visiting the platform (e.g., a mobile app). The share of revenue from these users accounts for 18% of the total revenue. Regardless of the reasons, these users have already made payments and were not sensitive to changes in the payment mechanism ***=> for testing purposes, these users will be excluded from the final sample***.\n",
    "\n",
    "**8,341 =>** active users including 392 payed users and 7,949 users without payments ***=> these users will be included in the final sample***.\n",
    "\n",
    "Users were split into control and test groups for testing purposes, with an equal **50/50 distribution**."
   ]
  },
  {
   "cell_type": "markdown",
   "id": "ea9ab86d-e883-46a8-b867-5770467cd685",
   "metadata": {},
   "source": [
    "## Q2.\n",
    "Data Preparation for Testing. Analyze the split between control and test groups to ensure that users are evenly distributed."
   ]
  },
  {
   "cell_type": "code",
   "execution_count": 766,
   "id": "8e661372-9c1c-405f-9d85-91a13b371dab",
   "metadata": {},
   "outputs": [],
   "source": [
    "# final sample for testing => keep only active users\n",
    "sample = df.query(\"status == 'active'\")"
   ]
  },
  {
   "cell_type": "code",
   "execution_count": 768,
   "id": "c9da4f6a-cf3f-4aeb-9cc2-f30ee900827c",
   "metadata": {},
   "outputs": [
    {
     "data": {
      "text/html": [
       "<div>\n",
       "<style scoped>\n",
       "    .dataframe tbody tr th:only-of-type {\n",
       "        vertical-align: middle;\n",
       "    }\n",
       "\n",
       "    .dataframe tbody tr th {\n",
       "        vertical-align: top;\n",
       "    }\n",
       "\n",
       "    .dataframe thead th {\n",
       "        text-align: right;\n",
       "    }\n",
       "</style>\n",
       "<table border=\"1\" class=\"dataframe\">\n",
       "  <thead>\n",
       "    <tr style=\"text-align: right;\">\n",
       "      <th></th>\n",
       "      <th>student_id</th>\n",
       "      <th>group</th>\n",
       "      <th>status</th>\n",
       "      <th>revenue</th>\n",
       "      <th>payment</th>\n",
       "    </tr>\n",
       "  </thead>\n",
       "  <tbody>\n",
       "    <tr>\n",
       "      <th>1</th>\n",
       "      <td>1627</td>\n",
       "      <td>test</td>\n",
       "      <td>active</td>\n",
       "      <td>990.0</td>\n",
       "      <td>yes</td>\n",
       "    </tr>\n",
       "    <tr>\n",
       "      <th>10</th>\n",
       "      <td>2085</td>\n",
       "      <td>control</td>\n",
       "      <td>active</td>\n",
       "      <td>0.0</td>\n",
       "      <td>no</td>\n",
       "    </tr>\n",
       "    <tr>\n",
       "      <th>12</th>\n",
       "      <td>2215</td>\n",
       "      <td>test</td>\n",
       "      <td>active</td>\n",
       "      <td>0.0</td>\n",
       "      <td>no</td>\n",
       "    </tr>\n",
       "    <tr>\n",
       "      <th>43</th>\n",
       "      <td>3391</td>\n",
       "      <td>test</td>\n",
       "      <td>active</td>\n",
       "      <td>0.0</td>\n",
       "      <td>no</td>\n",
       "    </tr>\n",
       "    <tr>\n",
       "      <th>45</th>\n",
       "      <td>3401</td>\n",
       "      <td>test</td>\n",
       "      <td>active</td>\n",
       "      <td>0.0</td>\n",
       "      <td>no</td>\n",
       "    </tr>\n",
       "  </tbody>\n",
       "</table>\n",
       "</div>"
      ],
      "text/plain": [
       "    student_id    group  status  revenue payment\n",
       "1         1627     test  active    990.0     yes\n",
       "10        2085  control  active      0.0      no\n",
       "12        2215     test  active      0.0      no\n",
       "43        3391     test  active      0.0      no\n",
       "45        3401     test  active      0.0      no"
      ]
     },
     "execution_count": 768,
     "metadata": {},
     "output_type": "execute_result"
    }
   ],
   "source": [
    "sample.head()"
   ]
  },
  {
   "cell_type": "code",
   "execution_count": 770,
   "id": "7c26a983-fa52-4f19-b4a2-429110348588",
   "metadata": {},
   "outputs": [
    {
     "data": {
      "text/plain": [
       "8341"
      ]
     },
     "execution_count": 770,
     "metadata": {},
     "output_type": "execute_result"
    }
   ],
   "source": [
    "# check of completeness\n",
    "sample.student_id.nunique()"
   ]
  },
  {
   "cell_type": "code",
   "execution_count": 772,
   "id": "8b45eeee-abf1-4253-8643-c4723027d705",
   "metadata": {},
   "outputs": [
    {
     "data": {
      "text/html": [
       "<div>\n",
       "<style scoped>\n",
       "    .dataframe tbody tr th:only-of-type {\n",
       "        vertical-align: middle;\n",
       "    }\n",
       "\n",
       "    .dataframe tbody tr th {\n",
       "        vertical-align: top;\n",
       "    }\n",
       "\n",
       "    .dataframe thead th {\n",
       "        text-align: right;\n",
       "    }\n",
       "</style>\n",
       "<table border=\"1\" class=\"dataframe\">\n",
       "  <thead>\n",
       "    <tr style=\"text-align: right;\">\n",
       "      <th></th>\n",
       "      <th>student_id</th>\n",
       "      <th>group</th>\n",
       "      <th>status</th>\n",
       "      <th>revenue</th>\n",
       "      <th>payment</th>\n",
       "    </tr>\n",
       "  </thead>\n",
       "  <tbody>\n",
       "    <tr>\n",
       "      <th>1</th>\n",
       "      <td>1627</td>\n",
       "      <td>test</td>\n",
       "      <td>active</td>\n",
       "      <td>990.0</td>\n",
       "      <td>yes</td>\n",
       "    </tr>\n",
       "    <tr>\n",
       "      <th>10</th>\n",
       "      <td>2085</td>\n",
       "      <td>control</td>\n",
       "      <td>active</td>\n",
       "      <td>0.0</td>\n",
       "      <td>no</td>\n",
       "    </tr>\n",
       "    <tr>\n",
       "      <th>12</th>\n",
       "      <td>2215</td>\n",
       "      <td>test</td>\n",
       "      <td>active</td>\n",
       "      <td>0.0</td>\n",
       "      <td>no</td>\n",
       "    </tr>\n",
       "    <tr>\n",
       "      <th>43</th>\n",
       "      <td>3391</td>\n",
       "      <td>test</td>\n",
       "      <td>active</td>\n",
       "      <td>0.0</td>\n",
       "      <td>no</td>\n",
       "    </tr>\n",
       "    <tr>\n",
       "      <th>45</th>\n",
       "      <td>3401</td>\n",
       "      <td>test</td>\n",
       "      <td>active</td>\n",
       "      <td>0.0</td>\n",
       "      <td>no</td>\n",
       "    </tr>\n",
       "  </tbody>\n",
       "</table>\n",
       "</div>"
      ],
      "text/plain": [
       "    student_id    group  status  revenue payment\n",
       "1         1627     test  active    990.0     yes\n",
       "10        2085  control  active      0.0      no\n",
       "12        2215     test  active      0.0      no\n",
       "43        3391     test  active      0.0      no\n",
       "45        3401     test  active      0.0      no"
      ]
     },
     "execution_count": 772,
     "metadata": {},
     "output_type": "execute_result"
    }
   ],
   "source": [
    "sample.head()"
   ]
  },
  {
   "cell_type": "code",
   "execution_count": 774,
   "id": "382c89d0-c9cd-48df-942f-fa2b638f3357",
   "metadata": {},
   "outputs": [],
   "source": [
    "# sample by groups\n",
    "sample_by_groups = final_sample.groupby('group', as_index=False).agg({'student_id': 'nunique'})\n",
    "sample_by_groups['pct'] = round(sample_by_groups.student_id / sample_by_groups.student_id.sum() * 100, 1)"
   ]
  },
  {
   "cell_type": "code",
   "execution_count": 776,
   "id": "05236113-cd87-4f53-8e49-78a0fa2e9ac6",
   "metadata": {},
   "outputs": [
    {
     "data": {
      "text/html": [
       "<div>\n",
       "<style scoped>\n",
       "    .dataframe tbody tr th:only-of-type {\n",
       "        vertical-align: middle;\n",
       "    }\n",
       "\n",
       "    .dataframe tbody tr th {\n",
       "        vertical-align: top;\n",
       "    }\n",
       "\n",
       "    .dataframe thead th {\n",
       "        text-align: right;\n",
       "    }\n",
       "</style>\n",
       "<table border=\"1\" class=\"dataframe\">\n",
       "  <thead>\n",
       "    <tr style=\"text-align: right;\">\n",
       "      <th></th>\n",
       "      <th>group</th>\n",
       "      <th>student_id</th>\n",
       "      <th>pct</th>\n",
       "    </tr>\n",
       "  </thead>\n",
       "  <tbody>\n",
       "    <tr>\n",
       "      <th>0</th>\n",
       "      <td>control</td>\n",
       "      <td>4224</td>\n",
       "      <td>50.6</td>\n",
       "    </tr>\n",
       "    <tr>\n",
       "      <th>1</th>\n",
       "      <td>test</td>\n",
       "      <td>4117</td>\n",
       "      <td>49.4</td>\n",
       "    </tr>\n",
       "  </tbody>\n",
       "</table>\n",
       "</div>"
      ],
      "text/plain": [
       "     group  student_id   pct\n",
       "0  control        4224  50.6\n",
       "1     test        4117  49.4"
      ]
     },
     "execution_count": 776,
     "metadata": {},
     "output_type": "execute_result"
    }
   ],
   "source": [
    "sample_by_groups"
   ]
  },
  {
   "cell_type": "code",
   "execution_count": 778,
   "id": "a2ec4d60-bc20-4225-8966-fdc7b3f367b3",
   "metadata": {},
   "outputs": [
    {
     "data": {
      "image/png": "[encoded data removed]",
      "text/plain": [
       "<Figure size 600x400 with 1 Axes>"
      ]
     },
     "metadata": {},
     "output_type": "display_data"
    }
   ],
   "source": [
    "ax = sns.barplot(x='group', y='student_id', data=sample_by_groups, hue='group',\n",
    "                 order=['control','test'], palette='Dark2')\n",
    "for container, label in zip(ax.containers, sample_by_groups['pct']):\n",
    "    ax.bar_label(container, labels=[f\"{label:.1f}%\"], padding=3)\n",
    "plt.title('Users by Groups')\n",
    "plt.xlabel('Group')\n",
    "plt.ylabel('Number of Users')\n",
    "ymin, ymax = ax.get_ylim()\n",
    "ax.set_ylim(ymin, ymax * 1.1)\n",
    "plt.show()"
   ]
  },
  {
   "cell_type": "markdown",
   "id": "86d3e7ce-202c-40e3-b9eb-c34f7029cc6a",
   "metadata": {},
   "source": [
    "## Q2 Summary:\n",
    "A testing DataFrame was prepared with 8,341 active users.\n",
    "\n",
    "The distribution between control and test groups was checked and found to be 50.6% vs 49.4%, matching the intended 50/50 split of the full dataset."
   ]
  },
  {
   "cell_type": "markdown",
   "id": "fd902b0d-27d6-49aa-80d8-07ae0a90bbff",
   "metadata": {},
   "source": [
    "## Q3. Hypothesis\n",
    "**H0:** There is no difference between the new payment mechanism (test group) and the old one (control group).\n",
    "\n",
    "**H1:** The new payment mechanism (test group) differs significantly from the old one (control group)."
   ]
  },
  {
   "cell_type": "markdown",
   "id": "39c2b3e7-1828-4862-89d8-438e6a2fc15f",
   "metadata": {},
   "source": [
    "## Q4. Metrics\n",
    "The effectiveness of the new payment mechanism will be analyzed using the following metrics:\n",
    "\n",
    "**CR (Conversion Rate):** the ratio of paying users to the total number of active users.\n",
    "\n",
    "**ARPU (Average Revenue per User):** the average revenue per acquired user.\n",
    "\n",
    "**ARPPU (Average Revenue per Paying User):** the average revenue per paying user."
   ]
  },
  {
   "cell_type": "code",
   "execution_count": 787,
   "id": "d63cb02b-027b-4afb-ad52-4f677769ccaf",
   "metadata": {},
   "outputs": [],
   "source": [
    "# calculate metrics by groups\n",
    "sample_metrics = sample.groupby('group', as_index=False).agg(\n",
    "    total_revenue_USD = ('revenue', 'sum'),\n",
    "    CR = ('payment', lambda x: ((x=='yes').sum() / len(x)) * 100),\n",
    "    ARPU_USD = ('revenue', 'mean'),\n",
    "    ARPPU_USD = ('revenue', lambda x: x[x>0].mean()))"
   ]
  },
  {
   "cell_type": "code",
   "execution_count": 793,
   "id": "83a3b660-d74b-4b88-9158-fd00b8400d66",
   "metadata": {},
   "outputs": [],
   "source": [
    "sample_metrics = sample_metrics.round({'total_revenue_USD': 2, 'CR': 2, 'ARPU_USD': 2, 'ARPPU_USD': 2})"
   ]
  },
  {
   "cell_type": "code",
   "execution_count": 795,
   "id": "b5b9d4b7-0fe9-439f-8b6e-0397b466c31e",
   "metadata": {},
   "outputs": [
    {
     "data": {
      "text/html": [
       "<div>\n",
       "<style scoped>\n",
       "    .dataframe tbody tr th:only-of-type {\n",
       "        vertical-align: middle;\n",
       "    }\n",
       "\n",
       "    .dataframe tbody tr th {\n",
       "        vertical-align: top;\n",
       "    }\n",
       "\n",
       "    .dataframe thead th {\n",
       "        text-align: right;\n",
       "    }\n",
       "</style>\n",
       "<table border=\"1\" class=\"dataframe\">\n",
       "  <thead>\n",
       "    <tr style=\"text-align: right;\">\n",
       "      <th></th>\n",
       "      <th>group</th>\n",
       "      <th>total_revenue_USD</th>\n",
       "      <th>CR</th>\n",
       "      <th>ARPU_USD</th>\n",
       "      <th>ARPPU_USD</th>\n",
       "    </tr>\n",
       "  </thead>\n",
       "  <tbody>\n",
       "    <tr>\n",
       "      <th>0</th>\n",
       "      <td>control</td>\n",
       "      <td>240938.0</td>\n",
       "      <td>4.52</td>\n",
       "      <td>57.04</td>\n",
       "      <td>1261.46</td>\n",
       "    </tr>\n",
       "    <tr>\n",
       "      <th>1</th>\n",
       "      <td>test</td>\n",
       "      <td>226856.0</td>\n",
       "      <td>4.88</td>\n",
       "      <td>55.10</td>\n",
       "      <td>1128.64</td>\n",
       "    </tr>\n",
       "  </tbody>\n",
       "</table>\n",
       "</div>"
      ],
      "text/plain": [
       "     group  total_revenue_USD    CR  ARPU_USD  ARPPU_USD\n",
       "0  control           240938.0  4.52     57.04    1261.46\n",
       "1     test           226856.0  4.88     55.10    1128.64"
      ]
     },
     "execution_count": 795,
     "metadata": {},
     "output_type": "execute_result"
    }
   ],
   "source": [
    "sample_metrics"
   ]
  },
  {
   "cell_type": "code",
   "execution_count": 801,
   "id": "b50bcff4-8c78-4938-ba32-3ef862326381",
   "metadata": {},
   "outputs": [
    {
     "data": {
      "image/png": "[encoded data removed]",
      "text/plain": [
       "<Figure size 1500x500 with 4 Axes>"
      ]
     },
     "metadata": {},
     "output_type": "display_data"
    }
   ],
   "source": [
    "# visualization\n",
    "fig, axes = plt.subplots(1, 4, figsize=(15, 5))\n",
    "metrics = ['total_revenue_USD', 'ARPU_USD', 'ARPPU_USD', 'CR']\n",
    "for ax, metric in zip(axes, metrics):\n",
    "    sns.pointplot(x='group', y=metric, data=sample_metrics, ax=ax, color='green')\n",
    "    ax.set_title(metric)\n",
    "    ax.set_ylabel('')\n",
    "    for i, row in sample_metrics.iterrows():\n",
    "        ax.text(\n",
    "            x=i%2 + 0.2,\n",
    "            y=row[metric],\n",
    "            s=(f\"{row[metric]/1000:.3f}K\" if metric == 'ARPU_USD'\n",
    "            else f\"{row[metric]:.1f}%\" if metric == 'CR'\n",
    "            else f\"{row[metric]/1000:.3f}K\" if metric == 'ARPPU_USD'\n",
    "            else f\"{row[metric]/1000:.0f}K\"),\n",
    "            ha='center',\n",
    "            va='bottom',\n",
    "            fontsize=10\n",
    "        )\n",
    "plt.tight_layout()\n",
    "plt.show()"
   ]
  },
  {
   "cell_type": "markdown",
   "id": "2b0983e4-d3ed-42f4-aaf9-e992539fd5e9",
   "metadata": {},
   "source": [
    "## Q4 Summary:\n",
    "\n",
    "**Total Revenue:** In the control group, total revenue was 241K, while in the test group it was 227K. Overall, the total revenue in the test group is slightly lower than in the control group. The difference is small, but the control group generated more revenue.\n",
    "\n",
    "**ARPU**: The control group had an ARPU of USD 0.057K (USD 57), and the test group had USD 0.055K (USD 55). The average revenue per user is slightly higher in the control group, with a minimal difference of about 2 units.\n",
    "\n",
    "**ARPPU**: In the control group, ARPPU was USD 1.261K (USD 1,261), compared to USD 1.129K (USD 1,129) in the test group. The average revenue per paying user is higher in the control group, with the test group lagging slightly.\n",
    "\n",
    "**CR**: The control group had a conversion rate of 4.5%, while the test group achieved 4.9%. Conversion is higher in the test group, indicating that the new payment mechanic led to a small increase in conversion.\n",
    "\n",
    "Overall, the new payment mechanic in the test group slightly increased the conversion rate, suggesting a higher proportion of paying users. However, the average revenue per user and per paying user decreased, and the total revenue is slightly lower than in the control group.\n",
    "\n",
    "To make final conclusions, a statistical test is needed to determine whether these differences are significant or just random fluctuations."
   ]
  },
  {
   "cell_type": "markdown",
   "id": "a052a6bb-05ca-47a3-bddb-d2a3c9736903",
   "metadata": {},
   "source": [
    "## Q5. Statistical Testing of CR\n",
    "**H0:** The CR in the control and test groups does not differ.\n",
    "\n",
    "**H1:** The difference in CR between the control and test groups is statistically significant."
   ]
  },
  {
   "cell_type": "markdown",
   "id": "35d7def2-5817-448f-9e24-e762f32a2c15",
   "metadata": {},
   "source": [
    "Since CR is based on a categorical variable (payment = yes/no), the appropriate method to test the hypothesis is the **Chi-square test** of independence."
   ]
  },
  {
   "cell_type": "code",
   "execution_count": 821,
   "id": "796017a7-6c7a-4d04-b36f-59f917b9299d",
   "metadata": {},
   "outputs": [
    {
     "data": {
      "text/html": [
       "<div>\n",
       "<style scoped>\n",
       "    .dataframe tbody tr th:only-of-type {\n",
       "        vertical-align: middle;\n",
       "    }\n",
       "\n",
       "    .dataframe tbody tr th {\n",
       "        vertical-align: top;\n",
       "    }\n",
       "\n",
       "    .dataframe thead th {\n",
       "        text-align: right;\n",
       "    }\n",
       "</style>\n",
       "<table border=\"1\" class=\"dataframe\">\n",
       "  <thead>\n",
       "    <tr style=\"text-align: right;\">\n",
       "      <th>group</th>\n",
       "      <th>control</th>\n",
       "      <th>test</th>\n",
       "    </tr>\n",
       "    <tr>\n",
       "      <th>payment</th>\n",
       "      <th></th>\n",
       "      <th></th>\n",
       "    </tr>\n",
       "  </thead>\n",
       "  <tbody>\n",
       "    <tr>\n",
       "      <th>no</th>\n",
       "      <td>4033</td>\n",
       "      <td>3916</td>\n",
       "    </tr>\n",
       "    <tr>\n",
       "      <th>yes</th>\n",
       "      <td>191</td>\n",
       "      <td>201</td>\n",
       "    </tr>\n",
       "  </tbody>\n",
       "</table>\n",
       "</div>"
      ],
      "text/plain": [
       "group    control  test\n",
       "payment               \n",
       "no          4033  3916\n",
       "yes          191   201"
      ]
     },
     "execution_count": 821,
     "metadata": {},
     "output_type": "execute_result"
    }
   ],
   "source": [
    "# Create a contingency tabl\n",
    "chi_2 = pd.crosstab(sample['payment'], sample['group'])\n",
    "chi_2"
   ]
  },
  {
   "cell_type": "code",
   "execution_count": 825,
   "id": "adff638e-4823-4670-b891-39c1f351322a",
   "metadata": {},
   "outputs": [
    {
     "name": "stdout",
     "output_type": "stream",
     "text": [
      "Chi2: 0.5268937140184259\n",
      "p-value: 0.4679157422325776\n",
      "Degrees of freedom: 1\n",
      "Expected frequencies:\n",
      " [[4025.48567318 3923.51432682]\n",
      " [ 198.51432682  193.48567318]]\n"
     ]
    }
   ],
   "source": [
    "chi2, p, dof, expected = chi2_contingency(chi_2.values)\n",
    "\n",
    "print(\"Chi2:\", chi2)\n",
    "print(\"p-value:\", p)\n",
    "print(\"Degrees of freedom:\", dof)\n",
    "print(\"Expected frequencies:\\n\", expected)"
   ]
  },
  {
   "cell_type": "markdown",
   "id": "e8499d99-957d-4588-889c-3a110f24eeae",
   "metadata": {},
   "source": [
    "## Q5 Summary:\n",
    "Since the p-value (0.468) is greater than 0.05, we fail to reject the null hypothesis. \n",
    "\n",
    "This indicates that the difference in CR between the control and test groups is not statistically significant. \n",
    "\n",
    "In other words, **the new payment system did not lead to a significant change in CR**."
   ]
  },
  {
   "cell_type": "markdown",
   "id": "9ee78645-c1e6-444b-9515-c21829bf598c",
   "metadata": {},
   "source": [
    "## Q6. Statistical testing of ARPU\n",
    "**H0:** The average ARPU is the same in the control and test groups.\n",
    "\n",
    "**H1:** The average ARPU differs between the control and test groups."
   ]
  },
  {
   "cell_type": "markdown",
   "id": "a6da012e-6665-4d7f-9c43-2cb596c29a5b",
   "metadata": {},
   "source": [
    "To choose the appropriate statistical test for ARPU, we examine the **revenue distribution for all users**."
   ]
  },
  {
   "cell_type": "code",
   "execution_count": 889,
   "id": "6210b25c-e6f7-4c00-97ff-e941faefb2f1",
   "metadata": {},
   "outputs": [
    {
     "data": {
      "image/png": "[encoded data removed]",
      "text/plain": [
       "<Figure size 600x400 with 1 Axes>"
      ]
     },
     "metadata": {},
     "output_type": "display_data"
    }
   ],
   "source": [
    "sns.histplot(data=sample, x='revenue', hue='group', alpha=0.5, element='step')\n",
    "plt.title('Revenue Distribution for ARPU (all users)')\n",
    "plt.show()"
   ]
  },
  {
   "cell_type": "code",
   "execution_count": 983,
   "id": "a7abf79e-b4d2-471a-8d7e-b8306ba6aaf2",
   "metadata": {},
   "outputs": [
    {
     "data": {
      "text/plain": [
       "96.64"
      ]
     },
     "execution_count": 983,
     "metadata": {},
     "output_type": "execute_result"
    }
   ],
   "source": [
    "# Determine share of students payed less than USD 500 incuding zero revenue in both groups\n",
    "round((sample['revenue'] <= 500).mean() * 100, 2)"
   ]
  },
  {
   "cell_type": "code",
   "execution_count": 985,
   "id": "9e3051e7-2656-43dc-9993-767558214fca",
   "metadata": {},
   "outputs": [
    {
     "data": {
      "text/plain": [
       "38102    4650.0\n",
       "72633    3660.0\n",
       "9916     3660.0\n",
       "36243    3660.0\n",
       "17483    3660.0\n",
       "Name: revenue, dtype: float64"
      ]
     },
     "execution_count": 985,
     "metadata": {},
     "output_type": "execute_result"
    }
   ],
   "source": [
    "# Determine top students by revenue in both groups\n",
    "sample.revenue.sort_values(ascending=False).head()"
   ]
  },
  {
   "cell_type": "markdown",
   "id": "764950d3-2425-4709-916e-06c67477bc84",
   "metadata": {},
   "source": [
    "* The revenue distribution across all users is highly skewed: most users (around 97%) have zero or very low revenue. A small proportion generates substantially higher amounts (USD 3000+).\n",
    "* Visual differences between the control and test groups are minimal.\n",
    "* Because the data does not follow a normal distribution and contains heavy tails, parametric methods such as the t-test are not appropriate. Therefore, we use bootstrap to compare the mean ARPU between groups."
   ]
  },
  {
   "cell_type": "code",
   "execution_count": 970,
   "id": "14cfe7e8-b13a-4118-a17c-0fe236c287d0",
   "metadata": {},
   "outputs": [],
   "source": [
    "# function for bootstrap\n",
    "def get_bootstrap(\n",
    "    data_column_1,\n",
    "    data_column_2,\n",
    "    boot_it=1000,\n",
    "    statistic=np.mean,\n",
    "    bootstrap_conf_level=0.95\n",
    "):\n",
    "    boot_len = max([len(data_column_1), len(data_column_2)])\n",
    "    boot_data = []\n",
    "    for i in tqdm(range(boot_it)):\n",
    "        samples_1 = data_column_1.sample(\n",
    "            boot_len, \n",
    "            replace=True\n",
    "        ).values\n",
    "        \n",
    "        samples_2 = data_column_2.sample(\n",
    "            boot_len, \n",
    "            replace=True\n",
    "        ).values\n",
    "        \n",
    "        boot_data.append(statistic(samples_1 - samples_2))\n",
    "        \n",
    "    pd_boot_data = pd.DataFrame(boot_data)\n",
    "        \n",
    "    left_quant = (1 - bootstrap_conf_level) / 2\n",
    "    right_quant = 1 - (1 - bootstrap_conf_level) / 2\n",
    "    ci = pd_boot_data.quantile([left_quant, right_quant])\n",
    "        \n",
    "    p_1 = norm.cdf(\n",
    "        x=0, \n",
    "        loc=np.mean(boot_data), \n",
    "        scale=np.std(boot_data)\n",
    "    )\n",
    "    p_2 = norm.cdf(\n",
    "        x=0, \n",
    "        loc=-np.mean(boot_data), \n",
    "        scale=np.std(boot_data)\n",
    "    )\n",
    "    p_value = min(p_1, p_2) * 2\n",
    "        \n",
    "    # Визуализация\n",
    "    plt.hist(pd_boot_data[0], bins=50)\n",
    "    \n",
    "    plt.style.use('ggplot')\n",
    "    plt.vlines(ci, ymin=0, ymax=50, linestyle='--')\n",
    "    plt.xlabel('boot_data')\n",
    "    plt.ylabel('frequency')\n",
    "    plt.title(\"Histogram of boot_data\")\n",
    "    plt.show()\n",
    "       \n",
    "    return {\"boot_data\": boot_data, \n",
    "            \"ci\": ci, \n",
    "            \"p_value\": p_value}"
   ]
  },
  {
   "cell_type": "code",
   "execution_count": 1002,
   "id": "fd6033d0-4696-4c55-9d0f-a1260cd0cc15",
   "metadata": {},
   "outputs": [
    {
     "data": {
      "application/vnd.jupyter.widget-view+json": {
       "model_id": "afa86f6d63494f60bc7d38cc4bbd627d",
       "version_major": 2,
       "version_minor": 0
      },
      "text/plain": [
       "  0%|          | 0/1000 [00:00<?, ?it/s]"
      ]
     },
     "metadata": {},
     "output_type": "display_data"
    },
    {
     "data": {
      "image/png": "[encoded data removed]",
      "text/plain": [
       "<Figure size 600x400 with 1 Axes>"
      ]
     },
     "metadata": {},
     "output_type": "display_data"
    }
   ],
   "source": [
    "# bootstrap for ARPU\n",
    "booted_data_ARPU = get_bootstrap(sample.query(\"group == 'control'\").revenue, \n",
    "                                 sample.query(\"group == 'test'\").revenue)"
   ]
  },
  {
   "cell_type": "code",
   "execution_count": 1010,
   "id": "94e10c1a-9579-4e22-9855-b4ee60a59110",
   "metadata": {},
   "outputs": [
    {
     "data": {
      "text/plain": [
       "0.7597134755942407"
      ]
     },
     "execution_count": 1010,
     "metadata": {},
     "output_type": "execute_result"
    }
   ],
   "source": [
    "booted_data_ARPU[\"p_value\"]"
   ]
  },
  {
   "cell_type": "code",
   "execution_count": 1012,
   "id": "9640afa6-57d2-4ce0-ba14-25882ac6c88b",
   "metadata": {},
   "outputs": [
    {
     "data": {
      "text/html": [
       "<div>\n",
       "<style scoped>\n",
       "    .dataframe tbody tr th:only-of-type {\n",
       "        vertical-align: middle;\n",
       "    }\n",
       "\n",
       "    .dataframe tbody tr th {\n",
       "        vertical-align: top;\n",
       "    }\n",
       "\n",
       "    .dataframe thead th {\n",
       "        text-align: right;\n",
       "    }\n",
       "</style>\n",
       "<table border=\"1\" class=\"dataframe\">\n",
       "  <thead>\n",
       "    <tr style=\"text-align: right;\">\n",
       "      <th></th>\n",
       "      <th>0</th>\n",
       "    </tr>\n",
       "  </thead>\n",
       "  <tbody>\n",
       "    <tr>\n",
       "      <th>0.025</th>\n",
       "      <td>-10.547236</td>\n",
       "    </tr>\n",
       "    <tr>\n",
       "      <th>0.975</th>\n",
       "      <td>16.264412</td>\n",
       "    </tr>\n",
       "  </tbody>\n",
       "</table>\n",
       "</div>"
      ],
      "text/plain": [
       "               0\n",
       "0.025 -10.547236\n",
       "0.975  16.264412"
      ]
     },
     "execution_count": 1012,
     "metadata": {},
     "output_type": "execute_result"
    }
   ],
   "source": [
    "booted_data_ARPU[\"ci\"]"
   ]
  },
  {
   "cell_type": "markdown",
   "id": "ed46a31d-16ed-4f83-98ed-07b1cd2fc0b8",
   "metadata": {},
   "source": [
    "## Q6 Summary:\n",
    "The bootstrap analysis of ARPU shows no statistically significant difference between the control and test groups. \n",
    "\n",
    "The 95% confidence interval for the mean difference ranges from -10.55 to 16.26, including zero, and the p-value is 0.76. This indicates that the observed difference in ARPU could easily occur by chance."
   ]
  },
  {
   "cell_type": "markdown",
   "id": "6beb5f5a-a728-44ef-842d-a61be7e63581",
   "metadata": {},
   "source": [
    "## Q7. Statistical testing of ARPPU\n",
    "**H0:** The average ARPPU is the same in the control and test groups.\n",
    "\n",
    "**H1:** The average ARPPU differs between the control and test groups."
   ]
  },
  {
   "cell_type": "markdown",
   "id": "2d1983a8-3dab-4bfd-b733-318c4bbb3d54",
   "metadata": {},
   "source": [
    "To choose the appropriate statistical test for ARPPU, we examine the **revenue distribution for paying users only**."
   ]
  },
  {
   "cell_type": "code",
   "execution_count": 887,
   "id": "593f5684-f42f-44d5-a75c-41bbcff594bc",
   "metadata": {},
   "outputs": [
    {
     "data": {
      "image/png": "[encoded data removed]",
      "text/plain": [
       "<Figure size 600x400 with 1 Axes>"
      ]
     },
     "metadata": {},
     "output_type": "display_data"
    }
   ],
   "source": [
    "sns.histplot(data=sample[sample['revenue'] > 0], x='revenue', hue='group', element='step')\n",
    "plt.title('Revenue Distribution for ARPPU (paying users only)')\n",
    "plt.show()"
   ]
  },
  {
   "cell_type": "code",
   "execution_count": 987,
   "id": "cb23165c-c88f-4d75-819a-201c6d53a059",
   "metadata": {},
   "outputs": [
    {
     "data": {
      "text/html": [
       "<div>\n",
       "<style scoped>\n",
       "    .dataframe tbody tr th:only-of-type {\n",
       "        vertical-align: middle;\n",
       "    }\n",
       "\n",
       "    .dataframe tbody tr th {\n",
       "        vertical-align: top;\n",
       "    }\n",
       "\n",
       "    .dataframe thead th {\n",
       "        text-align: right;\n",
       "    }\n",
       "</style>\n",
       "<table border=\"1\" class=\"dataframe\">\n",
       "  <thead>\n",
       "    <tr style=\"text-align: right;\">\n",
       "      <th></th>\n",
       "      <th>student_id</th>\n",
       "      <th>group</th>\n",
       "      <th>status</th>\n",
       "      <th>revenue</th>\n",
       "      <th>payment</th>\n",
       "    </tr>\n",
       "  </thead>\n",
       "  <tbody>\n",
       "    <tr>\n",
       "      <th>1</th>\n",
       "      <td>1627</td>\n",
       "      <td>test</td>\n",
       "      <td>active</td>\n",
       "      <td>990.0</td>\n",
       "      <td>yes</td>\n",
       "    </tr>\n",
       "    <tr>\n",
       "      <th>10</th>\n",
       "      <td>2085</td>\n",
       "      <td>control</td>\n",
       "      <td>active</td>\n",
       "      <td>0.0</td>\n",
       "      <td>no</td>\n",
       "    </tr>\n",
       "    <tr>\n",
       "      <th>12</th>\n",
       "      <td>2215</td>\n",
       "      <td>test</td>\n",
       "      <td>active</td>\n",
       "      <td>0.0</td>\n",
       "      <td>no</td>\n",
       "    </tr>\n",
       "    <tr>\n",
       "      <th>43</th>\n",
       "      <td>3391</td>\n",
       "      <td>test</td>\n",
       "      <td>active</td>\n",
       "      <td>0.0</td>\n",
       "      <td>no</td>\n",
       "    </tr>\n",
       "    <tr>\n",
       "      <th>45</th>\n",
       "      <td>3401</td>\n",
       "      <td>test</td>\n",
       "      <td>active</td>\n",
       "      <td>0.0</td>\n",
       "      <td>no</td>\n",
       "    </tr>\n",
       "  </tbody>\n",
       "</table>\n",
       "</div>"
      ],
      "text/plain": [
       "    student_id    group  status  revenue payment\n",
       "1         1627     test  active    990.0     yes\n",
       "10        2085  control  active      0.0      no\n",
       "12        2215     test  active      0.0      no\n",
       "43        3391     test  active      0.0      no\n",
       "45        3401     test  active      0.0      no"
      ]
     },
     "execution_count": 987,
     "metadata": {},
     "output_type": "execute_result"
    }
   ],
   "source": [
    "sample.head()"
   ]
  },
  {
   "cell_type": "markdown",
   "id": "06735883-e79d-418a-8797-c1132b824ba6",
   "metadata": {},
   "source": [
    "* Most paying users (around 94%) spend relatively little (main peaks up to 2000), with a long right tail reaching 4000+, representing a small group of high spenders.\n",
    "* The peaks of control and test group distributions are roughly similar. The control group has more users with high spending (2000–4000), while the test group shows a more pronounced peak below 1000, reflecting the contribution of small payments.\n",
    "* The control group tends to have higher spending, resulting in a higher ARPPU.\n",
    "* The test group has more low-spending users, which lowers ARPPU. Since the distribution is right-skewed with outliers, bootstrap is used to test for differences in mean ARPPU between groups.\n",
    "* Because the data does not follow a normal distribution, parametric methods such as the t-test are not appropriate. Therefore, we use bootstrap to compare the mean ARPPU between groups."
   ]
  },
  {
   "cell_type": "code",
   "execution_count": 1004,
   "id": "360069c7-ca22-4977-8b35-70646a2d406c",
   "metadata": {},
   "outputs": [
    {
     "data": {
      "application/vnd.jupyter.widget-view+json": {
       "model_id": "85a0628e629d4cb59b880bc1acc43b3c",
       "version_major": 2,
       "version_minor": 0
      },
      "text/plain": [
       "  0%|          | 0/1000 [00:00<?, ?it/s]"
      ]
     },
     "metadata": {},
     "output_type": "display_data"
    },
    {
     "data": {
      "image/png": "[encoded data removed]",
      "text/plain": [
       "<Figure size 600x400 with 1 Axes>"
      ]
     },
     "metadata": {},
     "output_type": "display_data"
    }
   ],
   "source": [
    "# bootstrap for ARPU\n",
    "booted_data_ARPPU = get_bootstrap(sample.query(\"group == 'control' & payment == 'yes'\").revenue, \n",
    "                                  sample.query(\"group == 'test' & payment == 'yes'\").revenue)"
   ]
  },
  {
   "cell_type": "code",
   "execution_count": 1006,
   "id": "12445407-17ab-4e30-b0dc-04aed398aadf",
   "metadata": {},
   "outputs": [
    {
     "data": {
      "text/plain": [
       "0.12024429347596313"
      ]
     },
     "execution_count": 1006,
     "metadata": {},
     "output_type": "execute_result"
    }
   ],
   "source": [
    "booted_data_ARPPU[\"p_value\"]"
   ]
  },
  {
   "cell_type": "code",
   "execution_count": 1008,
   "id": "e3d992d7-fc43-4053-b12b-99cc87bdcb1f",
   "metadata": {},
   "outputs": [
    {
     "data": {
      "text/html": [
       "<div>\n",
       "<style scoped>\n",
       "    .dataframe tbody tr th:only-of-type {\n",
       "        vertical-align: middle;\n",
       "    }\n",
       "\n",
       "    .dataframe tbody tr th {\n",
       "        vertical-align: top;\n",
       "    }\n",
       "\n",
       "    .dataframe thead th {\n",
       "        text-align: right;\n",
       "    }\n",
       "</style>\n",
       "<table border=\"1\" class=\"dataframe\">\n",
       "  <thead>\n",
       "    <tr style=\"text-align: right;\">\n",
       "      <th></th>\n",
       "      <th>0</th>\n",
       "    </tr>\n",
       "  </thead>\n",
       "  <tbody>\n",
       "    <tr>\n",
       "      <th>0.025</th>\n",
       "      <td>-24.585438</td>\n",
       "    </tr>\n",
       "    <tr>\n",
       "      <th>0.975</th>\n",
       "      <td>310.897524</td>\n",
       "    </tr>\n",
       "  </tbody>\n",
       "</table>\n",
       "</div>"
      ],
      "text/plain": [
       "                0\n",
       "0.025  -24.585438\n",
       "0.975  310.897524"
      ]
     },
     "execution_count": 1008,
     "metadata": {},
     "output_type": "execute_result"
    }
   ],
   "source": [
    "booted_data_ARPPU[\"ci\"]"
   ]
  },
  {
   "cell_type": "markdown",
   "id": "c3d5dd04-2222-42d5-84d7-c5259338655c",
   "metadata": {},
   "source": [
    "## Q7 Summary:\n",
    "The bootstrap analysis of ARPPU shows no statistically significant difference between the control and test groups.\n",
    "\n",
    "The 95% confidence interval for the mean difference ranges from -24.59 to 310.9, and the p-value is 0.12, indicating that the observed difference could easily occur by chance."
   ]
  },
  {
   "cell_type": "markdown",
   "id": "3c43bdb8-1fc0-4a0a-9e28-e70d0e38873a",
   "metadata": {},
   "source": [
    "# Overall Project Conclusion:\n",
    "* The project aimed to evaluate the impact of a new payment mechanism on user behavior and revenue generation. The total user base consisted of 74,576 users. For testing purposes, inactive users were excluded, leaving 8,341 active users (including 392 paying users and 7,949 non-paying users). These active users were randomly split into control and test groups with an approximately 50/50 distribution.\n",
    "* The effectiveness of the new payment mechanism will be analyzed using the following metrics: CR, ARPU, ARPPU.\n",
    "* Based on preliminary observations of metrics, we discovered that  CR increased slightly in the test group (4.9% vs 4.5% in the control group) while ARPU and ARPPU were slightly lower in the test group (ARPU: USD 55 vs USD 57; ARPPU: USD 1,129 vs USD 1,261). Total revenue in the test group was marginally lower than in the control group.\n",
    "* Due to the skewed revenue distribution and presence of outliers, non-parametric methods such as bootstrap analysis were used to compare ARPU and ARPPU. Results showed no statistically significant differences between the control and test groups. Similarly, a Chi-square test for conversion rate yielded a p-value of 0.468, indicating no significant effect of the new payment mechanism.\n",
    "* Based on the statistical tests conducted (Chi-square for CR and bootstrap for ARPU/ARPPU), H₀ (that there is no difference between the new payment mechanism (test group) and the old one (control group)) cannot be rejected, indicating that the new payment mechanism does not significantly change user payment behavior or revenue."
   ]
  }
 ],
 "metadata": {
  "kernelspec": {
   "display_name": "Python 3 (ipykernel)",
   "language": "python",
   "name": "python3"
  },
  "language_info": {
   "codemirror_mode": {
    "name": "ipython",
    "version": 3
   },
   "file_extension": ".py",
   "mimetype": "text/x-python",
   "name": "python",
   "nbconvert_exporter": "python",
   "pygments_lexer": "ipython3",
   "version": "3.12.4"
  }
 },
 "nbformat": 4,
 "nbformat_minor": 5
}
